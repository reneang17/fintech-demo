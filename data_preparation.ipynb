{
 "cells": [
  {
   "cell_type": "code",
   "execution_count": 7,
   "metadata": {},
   "outputs": [],
   "source": [
    "import pandas as pd\n",
    "import numpy as np\n",
    "import matplotlib.pyplot as plt\n",
    "import seaborn as sns\n",
    "%matplotlib inline\n",
    "\n",
    "import math\n",
    "\n",
    "import warnings\n",
    "def ignore_warn(*args, **kwargs):\n",
    "    pass\n",
    "warnings.warn = ignore_warn #ignore annoying warning (e.g. sklearn and seaborn)\n",
    "\n",
    "\n",
    "# Reading train data\n",
    "df_complete = pd.read_csv('./dataset/data_undertood.csv', index_col=0)"
   ]
  },
  {
   "cell_type": "code",
   "execution_count": 8,
   "metadata": {},
   "outputs": [
    {
     "name": "stdout",
     "output_type": "stream",
     "text": [
      "<class 'pandas.core.frame.DataFrame'>\n",
      "Int64Index: 1497 entries, 38 to 16144\n",
      "Data columns (total 21 columns):\n",
      "user_id                                 1497 non-null int64\n",
      "monthly_income                          1497 non-null int64\n",
      "monthly_outcome                         1497 non-null int64\n",
      "class                                   1497 non-null int64\n",
      "institution                             1497 non-null object\n",
      "account_type                            1497 non-null object\n",
      "credit_type                             1497 non-null object\n",
      "total_credit_payments                   1497 non-null float64\n",
      "payment_frequency                       1497 non-null object\n",
      "amount_to_pay_next_payment              1497 non-null float64\n",
      "account_opening_date                    1497 non-null object\n",
      "maximum_credit_amount                   1497 non-null float64\n",
      "current_balance                         1497 non-null float64\n",
      "credit_limit                            1497 non-null float64\n",
      "worst_delinquency_date                  1497 non-null object\n",
      "worst_delinquency_estimated             1497 non-null float64\n",
      "worst_delinquency_past_due_estimated    1497 non-null float64\n",
      "payments_per_year                       1497 non-null int64\n",
      "loan_term                               1497 non-null float64\n",
      "loan_amount                             1497 non-null float64\n",
      "_has_account_closing_date               1497 non-null int64\n",
      "dtypes: float64(9), int64(6), object(6)\n",
      "memory usage: 257.3+ KB\n"
     ]
    }
   ],
   "source": [
    "df_complete.info()"
   ]
  },
  {
   "cell_type": "markdown",
   "metadata": {},
   "source": [
    " #  The good and the bad client:\n",
    "\n",
    "In this notebook we make a ML classifier to filter loans,\n",
    "that will generate delinquncies.  \n",
    "\n",
    "To this end, we create the binary target feature:\n",
    "\n",
    "loan_test $=$  (worst_delinquency_past_due_estimated / loan_amount) $<$ 0.1\n",
    "\n",
    "This feature will classify with (1) or (0) a loan proposal \n",
    "that, respectively, generated or not an accumulated delinquency \n",
    "larger than 10 % of the agreed lent money.\n",
    "\n",
    "Crucially, in order to deal with clients with delinquency records, we like\n",
    "to predict potential_loan without using the delinquency records. \n",
    "\n",
    "In what follows, we prepare data for this aim. \n",
    "\n",
    "Of course, the result will be an approximate model, dealing with an \n",
    "random process. We shall use the data basis of clients, to see estimate \n",
    "losses, and propose an interest rate to get the business going."
   ]
  },
  {
   "cell_type": "code",
   "execution_count": 9,
   "metadata": {},
   "outputs": [],
   "source": [
    "# Create feature \n",
    "df= df_complete;\n",
    "\n",
    "delinquency_acceptance_threshold = 0.1\n",
    "\n",
    "df['loan_test'] = (df['worst_delinquency_past_due_estimated'] / df['loan_amount'] \n",
    "                        <= delinquency_acceptance_threshold ).astype(int)\n",
    "\n"
   ]
  },
  {
   "cell_type": "code",
   "execution_count": 10,
   "metadata": {},
   "outputs": [],
   "source": [
    "records = df[ (df['worst_delinquency_date'] != 'No') & (df['worst_delinquency_date'] != 'Missing')] \n",
    "\n",
    "records = records[['user_id', 'worst_delinquency_date','worst_delinquency_past_due_estimated','loan_amount']];\n",
    "\n"
   ]
  },
  {
   "cell_type": "code",
   "execution_count": 11,
   "metadata": {},
   "outputs": [],
   "source": [
    "from datetime import datetime as dt \n",
    "\n",
    "def past_dates(date , date_list):\n",
    "    \n",
    "    past_list = []\n",
    "    \n",
    "    for i in date_list:\n",
    "        if i < date: \n",
    "            past_list.append(i)\n",
    "\n",
    "    \n",
    "    return past_list\n",
    "\n",
    "\n",
    "def worst_previous_record(col):\n",
    "    \n",
    "    user_id = col[0]\n",
    "    account_opening_date = dt.strptime(col[1], \"%m/%d/%y\")\n",
    "    \n",
    "    user_records = records[records['user_id'] == user_id]\n",
    "    \n",
    "    keys = [dt.strptime(i, \"%m/%d/%y\") for i in user_records.worst_delinquency_date ]\n",
    "    \n",
    "    values_amount = [i for i in user_records.worst_delinquency_past_due_estimated  ]\n",
    "    \n",
    "    amount_dict = dict(zip(keys, values_amount))\n",
    "\n",
    "    past_list = past_dates(account_opening_date , keys)\n",
    "    \n",
    "    if past_list == []: \n",
    "        return 0\n",
    "    \n",
    "    else:\n",
    "        return max([amount_dict[i] for i in past_list])\n",
    "    \n",
    "\n",
    "df['worst_previous_delinquency'] = df[['user_id','account_opening_date']].apply(worst_previous_record, axis = 1)"
   ]
  },
  {
   "cell_type": "code",
   "execution_count": 12,
   "metadata": {},
   "outputs": [],
   "source": [
    "def worst_fraction_record(col):\n",
    "    \n",
    "    user_id = col[0]\n",
    "    account_opening_date = dt.strptime(col[1], \"%m/%d/%y\")\n",
    "    \n",
    "    user_records = records[records['user_id'] == user_id]\n",
    "    \n",
    "    keys = [dt.strptime(i, \"%m/%d/%y\") for i in user_records.worst_delinquency_date ]\n",
    "    \n",
    "    \n",
    "    values_fraction = [i for i in (user_records.worst_delinquency_past_due_estimated\n",
    "                                  /user_records.loan_amount)  ]\n",
    "\n",
    "    fraction_dict = dict(zip(keys, values_fraction))\n",
    "    \n",
    "\n",
    "    past_list = past_dates(account_opening_date , keys)\n",
    "    \n",
    "    if past_list == []: \n",
    "        return 0\n",
    "    \n",
    "    else:\n",
    "        return  max([fraction_dict[i] for i in past_list])\n",
    "    \n",
    "df['worst_previous_fraction'] = df[['user_id','account_opening_date']].apply(worst_fraction_record, axis = 1)"
   ]
  },
  {
   "cell_type": "code",
   "execution_count": 13,
   "metadata": {},
   "outputs": [
    {
     "name": "stdout",
     "output_type": "stream",
     "text": [
      "<class 'pandas.core.frame.DataFrame'>\n",
      "Int64Index: 1497 entries, 38 to 16144\n",
      "Data columns (total 11 columns):\n",
      "monthly_income                1497 non-null int64\n",
      "monthly_outcome               1497 non-null int64\n",
      "credit_type                   1497 non-null object\n",
      "total_credit_payments         1497 non-null float64\n",
      "account_opening_date          1497 non-null object\n",
      "payments_per_year             1497 non-null int64\n",
      "loan_term                     1497 non-null float64\n",
      "loan_amount                   1497 non-null float64\n",
      "loan_test                     1497 non-null int64\n",
      "worst_previous_delinquency    1497 non-null float64\n",
      "worst_previous_fraction       1497 non-null float64\n",
      "dtypes: float64(5), int64(4), object(2)\n",
      "memory usage: 140.3+ KB\n"
     ]
    }
   ],
   "source": [
    "# So, when an user ask for loan, we want to be predict it if will \n",
    "# pay, \n",
    "\n",
    "df=df.drop(columns = ['worst_delinquency_date', \n",
    "                   'worst_delinquency_past_due_estimated', \n",
    "                   'worst_delinquency_estimated', \n",
    "                   'current_balance',\n",
    "                   'payment_frequency',\n",
    "                   'account_type',\n",
    "                   'amount_to_pay_next_payment',\n",
    "                   'class',\n",
    "                   '_has_account_closing_date',\n",
    "                   'institution', # A generalisation should include it\n",
    "                   'user_id',\n",
    "                   'maximum_credit_amount',\n",
    "                   'credit_limit']);\n",
    "\n",
    "df.info()"
   ]
  },
  {
   "cell_type": "markdown",
   "metadata": {},
   "source": [
    "# Categorical variables"
   ]
  },
  {
   "cell_type": "markdown",
   "metadata": {},
   "source": [
    "### account_opening_date\n",
    "\n",
    "We create one bin open_recently that encodes this function (>recent_threhold). Future generalisations should \n",
    "group opening dates sistematically in order to improve modeling accuracy. "
   ]
  },
  {
   "cell_type": "code",
   "execution_count": 14,
   "metadata": {},
   "outputs": [],
   "source": []
  },
  {
   "cell_type": "code",
   "execution_count": 22,
   "metadata": {},
   "outputs": [
    {
     "ename": "KeyError",
     "evalue": "\"['account_opening_date'] not in index\"",
     "output_type": "error",
     "traceback": [
      "\u001b[0;31m---------------------------------------------------------------------------\u001b[0m",
      "\u001b[0;31mKeyError\u001b[0m                                  Traceback (most recent call last)",
      "\u001b[0;32m<ipython-input-22-c14b88f7c6ca>\u001b[0m in \u001b[0;36m<module>\u001b[0;34m\u001b[0m\n\u001b[1;32m      7\u001b[0m         \u001b[0;32mreturn\u001b[0m \u001b[0;36m0\u001b[0m\u001b[0;34m\u001b[0m\u001b[0;34m\u001b[0m\u001b[0m\n\u001b[1;32m      8\u001b[0m \u001b[0;34m\u001b[0m\u001b[0m\n\u001b[0;32m----> 9\u001b[0;31m \u001b[0mdf\u001b[0m\u001b[0;34m[\u001b[0m\u001b[0;34m'_is_account_recent'\u001b[0m\u001b[0;34m]\u001b[0m\u001b[0;34m=\u001b[0m\u001b[0mdf\u001b[0m\u001b[0;34m[\u001b[0m\u001b[0;34m[\u001b[0m\u001b[0;34m'account_opening_date'\u001b[0m\u001b[0;34m]\u001b[0m\u001b[0;34m]\u001b[0m\u001b[0;34m.\u001b[0m\u001b[0mapply\u001b[0m\u001b[0;34m(\u001b[0m\u001b[0mturn_date_binary\u001b[0m\u001b[0;34m,\u001b[0m \u001b[0maxis\u001b[0m \u001b[0;34m=\u001b[0m \u001b[0;36m1\u001b[0m\u001b[0;34m)\u001b[0m\u001b[0;34m\u001b[0m\u001b[0;34m\u001b[0m\u001b[0m\n\u001b[0m\u001b[1;32m     10\u001b[0m \u001b[0;34m\u001b[0m\u001b[0m\n\u001b[1;32m     11\u001b[0m \u001b[0mdf\u001b[0m\u001b[0;34m.\u001b[0m\u001b[0mdrop\u001b[0m\u001b[0;34m(\u001b[0m\u001b[0mcolumns\u001b[0m \u001b[0;34m=\u001b[0m \u001b[0;34m[\u001b[0m\u001b[0;34m'account_opening_date'\u001b[0m\u001b[0;34m]\u001b[0m\u001b[0;34m,\u001b[0m \u001b[0minplace\u001b[0m \u001b[0;34m=\u001b[0m \u001b[0;32mTrue\u001b[0m\u001b[0;34m)\u001b[0m\u001b[0;34m\u001b[0m\u001b[0;34m\u001b[0m\u001b[0m\n",
      "\u001b[0;32m~/anaconda3/lib/python3.7/site-packages/pandas/core/frame.py\u001b[0m in \u001b[0;36m__getitem__\u001b[0;34m(self, key)\u001b[0m\n\u001b[1;32m   2680\u001b[0m         \u001b[0;32mif\u001b[0m \u001b[0misinstance\u001b[0m\u001b[0;34m(\u001b[0m\u001b[0mkey\u001b[0m\u001b[0;34m,\u001b[0m \u001b[0;34m(\u001b[0m\u001b[0mSeries\u001b[0m\u001b[0;34m,\u001b[0m \u001b[0mnp\u001b[0m\u001b[0;34m.\u001b[0m\u001b[0mndarray\u001b[0m\u001b[0;34m,\u001b[0m \u001b[0mIndex\u001b[0m\u001b[0;34m,\u001b[0m \u001b[0mlist\u001b[0m\u001b[0;34m)\u001b[0m\u001b[0;34m)\u001b[0m\u001b[0;34m:\u001b[0m\u001b[0;34m\u001b[0m\u001b[0;34m\u001b[0m\u001b[0m\n\u001b[1;32m   2681\u001b[0m             \u001b[0;31m# either boolean or fancy integer index\u001b[0m\u001b[0;34m\u001b[0m\u001b[0;34m\u001b[0m\u001b[0;34m\u001b[0m\u001b[0m\n\u001b[0;32m-> 2682\u001b[0;31m             \u001b[0;32mreturn\u001b[0m \u001b[0mself\u001b[0m\u001b[0;34m.\u001b[0m\u001b[0m_getitem_array\u001b[0m\u001b[0;34m(\u001b[0m\u001b[0mkey\u001b[0m\u001b[0;34m)\u001b[0m\u001b[0;34m\u001b[0m\u001b[0;34m\u001b[0m\u001b[0m\n\u001b[0m\u001b[1;32m   2683\u001b[0m         \u001b[0;32melif\u001b[0m \u001b[0misinstance\u001b[0m\u001b[0;34m(\u001b[0m\u001b[0mkey\u001b[0m\u001b[0;34m,\u001b[0m \u001b[0mDataFrame\u001b[0m\u001b[0;34m)\u001b[0m\u001b[0;34m:\u001b[0m\u001b[0;34m\u001b[0m\u001b[0;34m\u001b[0m\u001b[0m\n\u001b[1;32m   2684\u001b[0m             \u001b[0;32mreturn\u001b[0m \u001b[0mself\u001b[0m\u001b[0;34m.\u001b[0m\u001b[0m_getitem_frame\u001b[0m\u001b[0;34m(\u001b[0m\u001b[0mkey\u001b[0m\u001b[0;34m)\u001b[0m\u001b[0;34m\u001b[0m\u001b[0;34m\u001b[0m\u001b[0m\n",
      "\u001b[0;32m~/anaconda3/lib/python3.7/site-packages/pandas/core/frame.py\u001b[0m in \u001b[0;36m_getitem_array\u001b[0;34m(self, key)\u001b[0m\n\u001b[1;32m   2724\u001b[0m             \u001b[0;32mreturn\u001b[0m \u001b[0mself\u001b[0m\u001b[0;34m.\u001b[0m\u001b[0m_take\u001b[0m\u001b[0;34m(\u001b[0m\u001b[0mindexer\u001b[0m\u001b[0;34m,\u001b[0m \u001b[0maxis\u001b[0m\u001b[0;34m=\u001b[0m\u001b[0;36m0\u001b[0m\u001b[0;34m)\u001b[0m\u001b[0;34m\u001b[0m\u001b[0;34m\u001b[0m\u001b[0m\n\u001b[1;32m   2725\u001b[0m         \u001b[0;32melse\u001b[0m\u001b[0;34m:\u001b[0m\u001b[0;34m\u001b[0m\u001b[0;34m\u001b[0m\u001b[0m\n\u001b[0;32m-> 2726\u001b[0;31m             \u001b[0mindexer\u001b[0m \u001b[0;34m=\u001b[0m \u001b[0mself\u001b[0m\u001b[0;34m.\u001b[0m\u001b[0mloc\u001b[0m\u001b[0;34m.\u001b[0m\u001b[0m_convert_to_indexer\u001b[0m\u001b[0;34m(\u001b[0m\u001b[0mkey\u001b[0m\u001b[0;34m,\u001b[0m \u001b[0maxis\u001b[0m\u001b[0;34m=\u001b[0m\u001b[0;36m1\u001b[0m\u001b[0;34m)\u001b[0m\u001b[0;34m\u001b[0m\u001b[0;34m\u001b[0m\u001b[0m\n\u001b[0m\u001b[1;32m   2727\u001b[0m             \u001b[0;32mreturn\u001b[0m \u001b[0mself\u001b[0m\u001b[0;34m.\u001b[0m\u001b[0m_take\u001b[0m\u001b[0;34m(\u001b[0m\u001b[0mindexer\u001b[0m\u001b[0;34m,\u001b[0m \u001b[0maxis\u001b[0m\u001b[0;34m=\u001b[0m\u001b[0;36m1\u001b[0m\u001b[0;34m)\u001b[0m\u001b[0;34m\u001b[0m\u001b[0;34m\u001b[0m\u001b[0m\n\u001b[1;32m   2728\u001b[0m \u001b[0;34m\u001b[0m\u001b[0m\n",
      "\u001b[0;32m~/anaconda3/lib/python3.7/site-packages/pandas/core/indexing.py\u001b[0m in \u001b[0;36m_convert_to_indexer\u001b[0;34m(self, obj, axis, is_setter)\u001b[0m\n\u001b[1;32m   1325\u001b[0m                 \u001b[0;32mif\u001b[0m \u001b[0mmask\u001b[0m\u001b[0;34m.\u001b[0m\u001b[0many\u001b[0m\u001b[0;34m(\u001b[0m\u001b[0;34m)\u001b[0m\u001b[0;34m:\u001b[0m\u001b[0;34m\u001b[0m\u001b[0;34m\u001b[0m\u001b[0m\n\u001b[1;32m   1326\u001b[0m                     raise KeyError('{mask} not in index'\n\u001b[0;32m-> 1327\u001b[0;31m                                    .format(mask=objarr[mask]))\n\u001b[0m\u001b[1;32m   1328\u001b[0m \u001b[0;34m\u001b[0m\u001b[0m\n\u001b[1;32m   1329\u001b[0m                 \u001b[0;32mreturn\u001b[0m \u001b[0mcom\u001b[0m\u001b[0;34m.\u001b[0m\u001b[0m_values_from_object\u001b[0m\u001b[0;34m(\u001b[0m\u001b[0mindexer\u001b[0m\u001b[0;34m)\u001b[0m\u001b[0;34m\u001b[0m\u001b[0;34m\u001b[0m\u001b[0m\n",
      "\u001b[0;31mKeyError\u001b[0m: \"['account_opening_date'] not in index\""
     ]
    }
   ],
   "source": [
    "recent_threhold =8 # 2013\n",
    "\n",
    "def turn_date_binary(col):\n",
    "    date = int(col[0][-2:])\n",
    "    if (date <= 18) & (date >= 13): return 1\n",
    "    else: \n",
    "        return 0\n",
    "\n",
    "df['_is_account_recent']=df[['account_opening_date']].apply(turn_date_binary, axis = 1)\n",
    "\n",
    "\n",
    "\n",
    "def loan_test_and_count_vs(feature_str):\n",
    "    \"\"\"\n",
    "    Arguments: \n",
    "    feature_str -- Categorica feature of df\n",
    "    Return:\n",
    "    Countplot -- For each label of feature_str\n",
    "    Class Ratio plot -- For each value of feature_str\n",
    "    \"\"\"\n",
    "    fig, ax = plt.subplots(1 , 2, figsize=(10, 4))\n",
    "    axx=ax.flat\n",
    "\n",
    "    g1=sns.catplot(x=feature_str,y='loan_test',data=df,kind=\"bar\",ax=axx[0])\n",
    "    g1.set_ylabels(\"loan_test\")\n",
    "    axx[0].set_title('Passed loan_test fraction')\n",
    "\n",
    "    plt.close(2);\n",
    "    axx[1]=sns.countplot(x = feature_str, hue = 'loan_test', data = df)\n",
    "    axx[1].set_title('loan_test count vs '+feature_str)\n",
    "\n",
    "    axx[1].set_xlabel(feature_str)\n",
    "    axx[1].set_ylabel('Count')\n",
    "    axx[1].legend(['0','1'],loc = 1)\n",
    "    \n",
    "loan_test_and_count_vs('_is_account_recent')"
   ]
  },
  {
   "cell_type": "code",
   "execution_count": null,
   "metadata": {},
   "outputs": [],
   "source": [
    "df.drop(columns = ['account_opening_date'], inplace = True)"
   ]
  },
  {
   "cell_type": "code",
   "execution_count": null,
   "metadata": {},
   "outputs": [],
   "source": []
  },
  {
   "cell_type": "code",
   "execution_count": null,
   "metadata": {},
   "outputs": [],
   "source": []
  }
 ],
 "metadata": {
  "kernelspec": {
   "display_name": "Python 3",
   "language": "python",
   "name": "python3"
  },
  "language_info": {
   "codemirror_mode": {
    "name": "ipython",
    "version": 3
   },
   "file_extension": ".py",
   "mimetype": "text/x-python",
   "name": "python",
   "nbconvert_exporter": "python",
   "pygments_lexer": "ipython3",
   "version": "3.7.1"
  }
 },
 "nbformat": 4,
 "nbformat_minor": 2
}
