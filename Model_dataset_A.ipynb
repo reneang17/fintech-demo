{
 "cells": [
  {
   "cell_type": "code",
   "execution_count": 28,
   "metadata": {},
   "outputs": [],
   "source": [
    "import pandas as pd\n",
    "import numpy as np\n",
    "import matplotlib.pyplot as plt\n",
    "import seaborn as sns\n",
    "%matplotlib inline\n",
    "\n",
    "from sklearn.model_selection import train_test_split\n",
    "\n",
    "# Models to be tested\n",
    "from sklearn.linear_model import LogisticRegression\n",
    "from sklearn.svm import SVC\n",
    "from sklearn.tree import DecisionTreeClassifier\n",
    "from sklearn.ensemble import RandomForestClassifier, GradientBoostingClassifier, VotingClassifier\n",
    "from sklearn.neighbors import KNeighborsClassifier\n",
    "from sklearn.linear_model import RidgeClassifier\n",
    "from xgboost.sklearn import XGBClassifier\n",
    "\n",
    "# Cross-validation/gridserch tools\n",
    "from sklearn.model_selection import GridSearchCV, cross_val_score, StratifiedKFold, learning_curve\n",
    "\n",
    "# Pipiline tools\n",
    "from sklearn.pipeline import make_pipeline\n",
    "from sklearn.pipeline import Pipeline\n",
    "\n",
    "#Deal with outliers\n",
    "from sklearn.preprocessing import RobustScaler\n",
    "\n",
    "\n",
    "\n",
    "import warnings\n",
    "def ignore_warn(*args, **kwargs):\n",
    "    pass\n",
    "warnings.warn = ignore_warn #ignore sklearn/seaborn deprecation warning "
   ]
  },
  {
   "cell_type": "code",
   "execution_count": 35,
   "metadata": {},
   "outputs": [],
   "source": [
    "df= pd.read_csv('./dataset/users.csv')\n",
    "\n",
    "df.set_index('id', inplace=True) #set id as df index\n",
    "\n",
    "# New feature ratio_outcome_income\n",
    "df['ratio_outcome_income']= df['monthly_income']/df['monthly_outcome']"
   ]
  },
  {
   "cell_type": "code",
   "execution_count": 92,
   "metadata": {
    "scrolled": true
   },
   "outputs": [],
   "source": [
    "# Split target feature\n",
    "\n",
    "X = df.drop(labels = [\"class\"],axis = 1)\n",
    "y = df['class']\n"
   ]
  },
  {
   "cell_type": "code",
   "execution_count": 91,
   "metadata": {},
   "outputs": [
    {
     "data": {
      "text/plain": [
       "<matplotlib.legend.Legend at 0x1a25c0ebe0>"
      ]
     },
     "execution_count": 91,
     "metadata": {},
     "output_type": "execute_result"
    },
    {
     "data": {
      "image/png": "[encoded data removed]",
      "text/plain": [
       "<Figure size 432x288 with 1 Axes>"
      ]
     },
     "metadata": {
      "needs_background": "light"
     },
     "output_type": "display_data"
    }
   ],
   "source": [
    "# The features does not follow a normal distrubtion, \n",
    "# i.e. wealth is not normally distributed.\n",
    "# Hence below we first focus on models that do not make such assumption. \n",
    "temp=df[(df['monthly_income'] >100000) ]['monthly_income']\n",
    "\n",
    "sns.distplot(temp, color=\"b\", label=\"Skewness : %.2f\"%(temp.skew())).legend(loc=\"best\")\n"
   ]
  },
  {
   "cell_type": "code",
   "execution_count": 86,
   "metadata": {},
   "outputs": [
    {
     "data": {
      "text/plain": [
       "array([[ 4.3365762 ,  2.5486641 ,  0.45178641],\n",
       "       [-0.06417566, -0.24992221,  6.13433305],\n",
       "       [-0.01960005, -0.20297878,  1.49025368],\n",
       "       ...,\n",
       "       [-0.09101746,  0.34548098, -0.40829521],\n",
       "       [ 4.35954264,  2.8273524 ,  0.36678957],\n",
       "       [ 2.7856808 ,  3.66873023, -0.07278814]])"
      ]
     },
     "execution_count": 86,
     "metadata": {},
     "output_type": "execute_result"
    }
   ],
   "source": [
    "robustscaled_X"
   ]
  },
  {
   "cell_type": "code",
   "execution_count": 45,
   "metadata": {},
   "outputs": [],
   "source": [
    "# Create rules to create the cross validations datasets that are shuffled. \n",
    "# The ScikitLearn Cross validation method also creates datasets,\n",
    "# but as far as I'm aware it does not have the shuffle option.\n",
    "kfold = StratifiedKFold(n_splits=8,shuffle=True, random_state=42)"
   ]
  },
  {
   "cell_type": "code",
   "execution_count": null,
   "metadata": {},
   "outputs": [],
   "source": []
  }
 ],
 "metadata": {
  "kernelspec": {
   "display_name": "Python 3",
   "language": "python",
   "name": "python3"
  },
  "language_info": {
   "codemirror_mode": {
    "name": "ipython",
    "version": 3
   },
   "file_extension": ".py",
   "mimetype": "text/x-python",
   "name": "python",
   "nbconvert_exporter": "python",
   "pygments_lexer": "ipython3",
   "version": "3.7.1"
  }
 },
 "nbformat": 4,
 "nbformat_minor": 2
}
