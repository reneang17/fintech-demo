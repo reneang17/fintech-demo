{
 "cells": [
  {
   "cell_type": "code",
   "execution_count": 18,
   "metadata": {},
   "outputs": [],
   "source": [
    "import pandas as pd\n",
    "import numpy as np\n",
    "import pickle\n",
    "from IPython.display import Image"
   ]
  },
  {
   "cell_type": "markdown",
   "metadata": {},
   "source": [
    "# Deployment \n"
   ]
  },
  {
   "cell_type": "markdown",
   "metadata": {},
   "source": [
    "\n",
    "\n",
    "# To pick the bets clients\n",
    "\n",
    "Classification model(s) that given \n",
    "\n",
    "- loan amount\n",
    "- term \n",
    "- past records\n",
    "- income and outcome \n",
    "- delienquency records previous to account openning \n",
    "\n",
    "were applied to predicts if the loan requested would be or not paid back. To obtain feed such models, \n",
    "we had to focus on clients for which these features can be infered from \n",
    "codebooks. See data_preparation.ipynb for details.\n",
    "\n",
    "IMPORTANT: I did not used the good/bad boolean class anywhere, included in users_id.csv.\n",
    "\n",
    "### Evaluation Metric\n",
    "\n",
    "In order to minimize losses (false positive) our modesl are evaluated with the 'precision' metric, whose high score indicates few false positives. In our training and test sets 30 % of loans records were delinquent. \n",
    "\n",
    "Future work should be focus on how to maximixe profits while keeping this precision. \n",
    "\n",
    "The precision achieved by our models are:"
   ]
  },
  {
   "cell_type": "code",
   "execution_count": 19,
   "metadata": {},
   "outputs": [
    {
     "data": {
      "text/html": [
       "<div>\n",
       "<style scoped>\n",
       "    .dataframe tbody tr th:only-of-type {\n",
       "        vertical-align: middle;\n",
       "    }\n",
       "\n",
       "    .dataframe tbody tr th {\n",
       "        vertical-align: top;\n",
       "    }\n",
       "\n",
       "    .dataframe thead th {\n",
       "        text-align: right;\n",
       "    }\n",
       "</style>\n",
       "<table border=\"1\" class=\"dataframe\">\n",
       "  <thead>\n",
       "    <tr style=\"text-align: right;\">\n",
       "      <th></th>\n",
       "      <th>Model</th>\n",
       "      <th>Cross-validation set precision score</th>\n",
       "      <th>Cross-validation std</th>\n",
       "      <th>Test set precision score</th>\n",
       "    </tr>\n",
       "  </thead>\n",
       "  <tbody>\n",
       "    <tr>\n",
       "      <th>0</th>\n",
       "      <td>K_Nearest_Neighbour</td>\n",
       "      <td>0.903034</td>\n",
       "      <td>0.011705</td>\n",
       "      <td>0.931330</td>\n",
       "    </tr>\n",
       "    <tr>\n",
       "      <th>1</th>\n",
       "      <td>blended</td>\n",
       "      <td>0.897466</td>\n",
       "      <td>0.004884</td>\n",
       "      <td>0.910781</td>\n",
       "    </tr>\n",
       "    <tr>\n",
       "      <th>2</th>\n",
       "      <td>XGBoost</td>\n",
       "      <td>0.904422</td>\n",
       "      <td>0.003665</td>\n",
       "      <td>0.906367</td>\n",
       "    </tr>\n",
       "    <tr>\n",
       "      <th>3</th>\n",
       "      <td>Random_Forest</td>\n",
       "      <td>0.897872</td>\n",
       "      <td>0.003632</td>\n",
       "      <td>0.904412</td>\n",
       "    </tr>\n",
       "    <tr>\n",
       "      <th>4</th>\n",
       "      <td>Gradient_Boosting</td>\n",
       "      <td>0.905802</td>\n",
       "      <td>0.006588</td>\n",
       "      <td>0.901515</td>\n",
       "    </tr>\n",
       "    <tr>\n",
       "      <th>5</th>\n",
       "      <td>Bagging_Classifier</td>\n",
       "      <td>0.878798</td>\n",
       "      <td>0.005530</td>\n",
       "      <td>0.889734</td>\n",
       "    </tr>\n",
       "    <tr>\n",
       "      <th>6</th>\n",
       "      <td>Extra_Trees</td>\n",
       "      <td>0.874488</td>\n",
       "      <td>0.006986</td>\n",
       "      <td>0.889286</td>\n",
       "    </tr>\n",
       "    <tr>\n",
       "      <th>7</th>\n",
       "      <td>AdaBoost</td>\n",
       "      <td>0.889859</td>\n",
       "      <td>0.006729</td>\n",
       "      <td>0.886861</td>\n",
       "    </tr>\n",
       "    <tr>\n",
       "      <th>8</th>\n",
       "      <td>SVC</td>\n",
       "      <td>0.876788</td>\n",
       "      <td>0.008946</td>\n",
       "      <td>0.882784</td>\n",
       "    </tr>\n",
       "    <tr>\n",
       "      <th>9</th>\n",
       "      <td>Gaussian_Process</td>\n",
       "      <td>0.845644</td>\n",
       "      <td>0.003902</td>\n",
       "      <td>0.863014</td>\n",
       "    </tr>\n",
       "    <tr>\n",
       "      <th>10</th>\n",
       "      <td>Gaussian_Naive_Bayes</td>\n",
       "      <td>0.854046</td>\n",
       "      <td>0.013509</td>\n",
       "      <td>0.861210</td>\n",
       "    </tr>\n",
       "    <tr>\n",
       "      <th>11</th>\n",
       "      <td>Logistic_Regression</td>\n",
       "      <td>0.845965</td>\n",
       "      <td>0.003957</td>\n",
       "      <td>0.857143</td>\n",
       "    </tr>\n",
       "  </tbody>\n",
       "</table>\n",
       "</div>"
      ],
      "text/plain": [
       "                   Model  Cross-validation set precision score  \\\n",
       "0    K_Nearest_Neighbour                              0.903034   \n",
       "1                blended                              0.897466   \n",
       "2                XGBoost                              0.904422   \n",
       "3          Random_Forest                              0.897872   \n",
       "4      Gradient_Boosting                              0.905802   \n",
       "5     Bagging_Classifier                              0.878798   \n",
       "6            Extra_Trees                              0.874488   \n",
       "7               AdaBoost                              0.889859   \n",
       "8                    SVC                              0.876788   \n",
       "9       Gaussian_Process                              0.845644   \n",
       "10  Gaussian_Naive_Bayes                              0.854046   \n",
       "11   Logistic_Regression                              0.845965   \n",
       "\n",
       "    Cross-validation std  Test set precision score  \n",
       "0               0.011705                  0.931330  \n",
       "1               0.004884                  0.910781  \n",
       "2               0.003665                  0.906367  \n",
       "3               0.003632                  0.904412  \n",
       "4               0.006588                  0.901515  \n",
       "5               0.005530                  0.889734  \n",
       "6               0.006986                  0.889286  \n",
       "7               0.006729                  0.886861  \n",
       "8               0.008946                  0.882784  \n",
       "9               0.003902                  0.863014  \n",
       "10              0.013509                  0.861210  \n",
       "11              0.003957                  0.857143  "
      ]
     },
     "execution_count": 19,
     "metadata": {},
     "output_type": "execute_result"
    }
   ],
   "source": [
    "pd.read_csv('./plots_tables/test_set_scores.csv', index_col = 0)"
   ]
  },
  {
   "cell_type": "markdown",
   "metadata": {},
   "source": [
    "Some algorithms allows us to infer the most important features to predict if a given loan will be payed back (see modeling.ipynb for details). The next table shows such results:"
   ]
  },
  {
   "cell_type": "code",
   "execution_count": 28,
   "metadata": {},
   "outputs": [
    {
     "data": {
      "text/html": [
       "<div>\n",
       "<style scoped>\n",
       "    .dataframe tbody tr th:only-of-type {\n",
       "        vertical-align: middle;\n",
       "    }\n",
       "\n",
       "    .dataframe tbody tr th {\n",
       "        vertical-align: top;\n",
       "    }\n",
       "\n",
       "    .dataframe thead th {\n",
       "        text-align: right;\n",
       "    }\n",
       "</style>\n",
       "<table border=\"1\" class=\"dataframe\">\n",
       "  <thead>\n",
       "    <tr style=\"text-align: right;\">\n",
       "      <th></th>\n",
       "      <th>Feature</th>\n",
       "      <th>gbc importance</th>\n",
       "      <th>xgb importance</th>\n",
       "      <th>ran importance</th>\n",
       "      <th>ext importance</th>\n",
       "      <th>ada importance</th>\n",
       "      <th>Average</th>\n",
       "    </tr>\n",
       "  </thead>\n",
       "  <tbody>\n",
       "    <tr>\n",
       "      <th>0</th>\n",
       "      <td>loan_amount</td>\n",
       "      <td>0.444240</td>\n",
       "      <td>0.178237</td>\n",
       "      <td>0.254905</td>\n",
       "      <td>0.177223</td>\n",
       "      <td>0.20</td>\n",
       "      <td>0.250921</td>\n",
       "    </tr>\n",
       "    <tr>\n",
       "      <th>1</th>\n",
       "      <td>ratio_outcome_income</td>\n",
       "      <td>0.077603</td>\n",
       "      <td>0.076709</td>\n",
       "      <td>0.073451</td>\n",
       "      <td>0.069862</td>\n",
       "      <td>0.40</td>\n",
       "      <td>0.139525</td>\n",
       "    </tr>\n",
       "    <tr>\n",
       "      <th>2</th>\n",
       "      <td>total_credit_payments</td>\n",
       "      <td>0.069247</td>\n",
       "      <td>0.083232</td>\n",
       "      <td>0.072273</td>\n",
       "      <td>0.076692</td>\n",
       "      <td>0.06</td>\n",
       "      <td>0.072289</td>\n",
       "    </tr>\n",
       "    <tr>\n",
       "      <th>3</th>\n",
       "      <td>loan_term</td>\n",
       "      <td>0.083512</td>\n",
       "      <td>0.089134</td>\n",
       "      <td>0.079947</td>\n",
       "      <td>0.083569</td>\n",
       "      <td>0.00</td>\n",
       "      <td>0.067232</td>\n",
       "    </tr>\n",
       "    <tr>\n",
       "      <th>4</th>\n",
       "      <td>monthly_outcome</td>\n",
       "      <td>0.063037</td>\n",
       "      <td>0.107628</td>\n",
       "      <td>0.067695</td>\n",
       "      <td>0.079256</td>\n",
       "      <td>0.00</td>\n",
       "      <td>0.063523</td>\n",
       "    </tr>\n",
       "    <tr>\n",
       "      <th>5</th>\n",
       "      <td>monthly_income</td>\n",
       "      <td>0.028480</td>\n",
       "      <td>0.097577</td>\n",
       "      <td>0.067143</td>\n",
       "      <td>0.056489</td>\n",
       "      <td>0.02</td>\n",
       "      <td>0.053938</td>\n",
       "    </tr>\n",
       "    <tr>\n",
       "      <th>6</th>\n",
       "      <td>log_outcome</td>\n",
       "      <td>0.047156</td>\n",
       "      <td>0.000000</td>\n",
       "      <td>0.063498</td>\n",
       "      <td>0.086159</td>\n",
       "      <td>0.06</td>\n",
       "      <td>0.051363</td>\n",
       "    </tr>\n",
       "    <tr>\n",
       "      <th>7</th>\n",
       "      <td>sqrt_outcome</td>\n",
       "      <td>0.076085</td>\n",
       "      <td>0.000000</td>\n",
       "      <td>0.076292</td>\n",
       "      <td>0.062314</td>\n",
       "      <td>0.04</td>\n",
       "      <td>0.050938</td>\n",
       "    </tr>\n",
       "    <tr>\n",
       "      <th>8</th>\n",
       "      <td>worst_previous_fraction</td>\n",
       "      <td>0.015857</td>\n",
       "      <td>0.074836</td>\n",
       "      <td>0.032452</td>\n",
       "      <td>0.034419</td>\n",
       "      <td>0.06</td>\n",
       "      <td>0.043513</td>\n",
       "    </tr>\n",
       "    <tr>\n",
       "      <th>9</th>\n",
       "      <td>worst_previous_delinquency</td>\n",
       "      <td>0.006539</td>\n",
       "      <td>0.057380</td>\n",
       "      <td>0.026916</td>\n",
       "      <td>0.040448</td>\n",
       "      <td>0.08</td>\n",
       "      <td>0.042257</td>\n",
       "    </tr>\n",
       "    <tr>\n",
       "      <th>10</th>\n",
       "      <td>sqrt_income</td>\n",
       "      <td>0.036222</td>\n",
       "      <td>0.000000</td>\n",
       "      <td>0.079516</td>\n",
       "      <td>0.065346</td>\n",
       "      <td>0.02</td>\n",
       "      <td>0.040217</td>\n",
       "    </tr>\n",
       "    <tr>\n",
       "      <th>11</th>\n",
       "      <td>log_income</td>\n",
       "      <td>0.033256</td>\n",
       "      <td>0.000000</td>\n",
       "      <td>0.052135</td>\n",
       "      <td>0.064797</td>\n",
       "      <td>0.04</td>\n",
       "      <td>0.038038</td>\n",
       "    </tr>\n",
       "    <tr>\n",
       "      <th>12</th>\n",
       "      <td>payments_per_year</td>\n",
       "      <td>0.006771</td>\n",
       "      <td>0.098125</td>\n",
       "      <td>0.022568</td>\n",
       "      <td>0.041439</td>\n",
       "      <td>0.02</td>\n",
       "      <td>0.037781</td>\n",
       "    </tr>\n",
       "    <tr>\n",
       "      <th>13</th>\n",
       "      <td>_is_common_type</td>\n",
       "      <td>0.009828</td>\n",
       "      <td>0.094409</td>\n",
       "      <td>0.019391</td>\n",
       "      <td>0.029059</td>\n",
       "      <td>0.00</td>\n",
       "      <td>0.030537</td>\n",
       "    </tr>\n",
       "    <tr>\n",
       "      <th>14</th>\n",
       "      <td>_is_account_recent</td>\n",
       "      <td>0.002167</td>\n",
       "      <td>0.042733</td>\n",
       "      <td>0.011818</td>\n",
       "      <td>0.032927</td>\n",
       "      <td>0.00</td>\n",
       "      <td>0.017929</td>\n",
       "    </tr>\n",
       "  </tbody>\n",
       "</table>\n",
       "</div>"
      ],
      "text/plain": [
       "                       Feature  gbc importance  xgb importance  \\\n",
       "0                  loan_amount        0.444240        0.178237   \n",
       "1         ratio_outcome_income        0.077603        0.076709   \n",
       "2        total_credit_payments        0.069247        0.083232   \n",
       "3                    loan_term        0.083512        0.089134   \n",
       "4              monthly_outcome        0.063037        0.107628   \n",
       "5               monthly_income        0.028480        0.097577   \n",
       "6                  log_outcome        0.047156        0.000000   \n",
       "7                 sqrt_outcome        0.076085        0.000000   \n",
       "8      worst_previous_fraction        0.015857        0.074836   \n",
       "9   worst_previous_delinquency        0.006539        0.057380   \n",
       "10                 sqrt_income        0.036222        0.000000   \n",
       "11                  log_income        0.033256        0.000000   \n",
       "12           payments_per_year        0.006771        0.098125   \n",
       "13             _is_common_type        0.009828        0.094409   \n",
       "14          _is_account_recent        0.002167        0.042733   \n",
       "\n",
       "    ran importance  ext importance  ada importance   Average  \n",
       "0         0.254905        0.177223            0.20  0.250921  \n",
       "1         0.073451        0.069862            0.40  0.139525  \n",
       "2         0.072273        0.076692            0.06  0.072289  \n",
       "3         0.079947        0.083569            0.00  0.067232  \n",
       "4         0.067695        0.079256            0.00  0.063523  \n",
       "5         0.067143        0.056489            0.02  0.053938  \n",
       "6         0.063498        0.086159            0.06  0.051363  \n",
       "7         0.076292        0.062314            0.04  0.050938  \n",
       "8         0.032452        0.034419            0.06  0.043513  \n",
       "9         0.026916        0.040448            0.08  0.042257  \n",
       "10        0.079516        0.065346            0.02  0.040217  \n",
       "11        0.052135        0.064797            0.04  0.038038  \n",
       "12        0.022568        0.041439            0.02  0.037781  \n",
       "13        0.019391        0.029059            0.00  0.030537  \n",
       "14        0.011818        0.032927            0.00  0.017929  "
      ]
     },
     "execution_count": 28,
     "metadata": {},
     "output_type": "execute_result"
    }
   ],
   "source": [
    "pd.read_csv('./plots_tables/feature_importance.csv', index_col = 0)"
   ]
  },
  {
   "cell_type": "markdown",
   "metadata": {},
   "source": [
    "Some of our models exhibit a variance problems, detected through learning curves. The curves of models with the lowest variance are:"
   ]
  },
  {
   "cell_type": "code",
   "execution_count": 21,
   "metadata": {},
   "outputs": [
    {
     "data": {
      "image/png": "[encoded data removed]",
      "text/plain": [
       "<IPython.core.display.Image object>"
      ]
     },
     "execution_count": 21,
     "metadata": {},
     "output_type": "execute_result"
    }
   ],
   "source": [
    "Image(filename = './plots_tables/Logistic_Regression.png')"
   ]
  },
  {
   "cell_type": "code",
   "execution_count": 22,
   "metadata": {},
   "outputs": [
    {
     "data": {
      "image/png": "[encoded data removed]",
      "text/plain": [
       "<IPython.core.display.Image object>"
      ]
     },
     "execution_count": 22,
     "metadata": {},
     "output_type": "execute_result"
    }
   ],
   "source": [
    "Image(filename = './plots_tables/Bagging_Classifier.png') "
   ]
  },
  {
   "cell_type": "markdown",
   "metadata": {},
   "source": [
    "# Question 2: Propose an amount and term"
   ]
  },
  {
   "cell_type": "markdown",
   "metadata": {},
   "source": [
    "If a new client applies for a loan with the following features"
   ]
  },
  {
   "cell_type": "code",
   "execution_count": 23,
   "metadata": {},
   "outputs": [
    {
     "data": {
      "text/html": [
       "<div>\n",
       "<style scoped>\n",
       "    .dataframe tbody tr th:only-of-type {\n",
       "        vertical-align: middle;\n",
       "    }\n",
       "\n",
       "    .dataframe tbody tr th {\n",
       "        vertical-align: top;\n",
       "    }\n",
       "\n",
       "    .dataframe thead th {\n",
       "        text-align: right;\n",
       "    }\n",
       "</style>\n",
       "<table border=\"1\" class=\"dataframe\">\n",
       "  <thead>\n",
       "    <tr style=\"text-align: right;\">\n",
       "      <th></th>\n",
       "      <th>user_id</th>\n",
       "      <th>monthly_income</th>\n",
       "      <th>monthly_outcome</th>\n",
       "      <th>total_credit_payments</th>\n",
       "      <th>payments_per_year</th>\n",
       "      <th>loan_term</th>\n",
       "      <th>loan_amount</th>\n",
       "      <th>worst_previous_delinquency</th>\n",
       "      <th>worst_previous_fraction</th>\n",
       "      <th>ratio_outcome_income</th>\n",
       "      <th>sqrt_income</th>\n",
       "      <th>sqrt_outcome</th>\n",
       "      <th>log_outcome</th>\n",
       "      <th>_will_pay_predicted</th>\n",
       "    </tr>\n",
       "  </thead>\n",
       "  <tbody>\n",
       "    <tr>\n",
       "      <th>69</th>\n",
       "      <td>14128</td>\n",
       "      <td>2011464.0</td>\n",
       "      <td>547658.0</td>\n",
       "      <td>24.0</td>\n",
       "      <td>24.0</td>\n",
       "      <td>1.0</td>\n",
       "      <td>12000.0</td>\n",
       "      <td>0.0</td>\n",
       "      <td>0.0</td>\n",
       "      <td>3.672847</td>\n",
       "      <td>1418.260907</td>\n",
       "      <td>740.039188</td>\n",
       "      <td>13.213406</td>\n",
       "      <td>0</td>\n",
       "    </tr>\n",
       "  </tbody>\n",
       "</table>\n",
       "</div>"
      ],
      "text/plain": [
       "    user_id  monthly_income  monthly_outcome  total_credit_payments  \\\n",
       "69    14128       2011464.0         547658.0                   24.0   \n",
       "\n",
       "    payments_per_year  loan_term  loan_amount  worst_previous_delinquency  \\\n",
       "69               24.0        1.0      12000.0                         0.0   \n",
       "\n",
       "    worst_previous_fraction  ratio_outcome_income  sqrt_income  sqrt_outcome  \\\n",
       "69                      0.0              3.672847  1418.260907    740.039188   \n",
       "\n",
       "    log_outcome  _will_pay_predicted  \n",
       "69    13.213406                    0  "
      ]
     },
     "execution_count": 23,
     "metadata": {},
     "output_type": "execute_result"
    }
   ],
   "source": [
    "blended_model = pickle.load(open('./trained_models/Bagging_Classifier', 'rb')) #load trained model\n",
    "scaler = pickle.load(open('./scaler/scaler', 'rb'))\n",
    "client = pd.read_csv('./dataset/client.csv', index_col = 0)\n",
    "\n",
    "client"
   ]
  },
  {
   "cell_type": "markdown",
   "metadata": {},
   "source": [
    "we can accept of reject a loan based on our classificatioin models. If he does not pass, we could actually offer him a different loan amount/term, such that our classification predicts that he will pay:"
   ]
  },
  {
   "cell_type": "code",
   "execution_count": 24,
   "metadata": {},
   "outputs": [
    {
     "name": "stdout",
     "output_type": "stream",
     "text": [
      "loan_ammount: 10  _will_pay_prediction [0]\n",
      "loan_ammount: 100  _will_pay_prediction [0]\n",
      "loan_ammount: 1000  _will_pay_prediction [1]\n",
      "loan_ammount: 10000  _will_pay_prediction [0]\n",
      "loan_ammount: 100000  _will_pay_prediction [0]\n",
      "loan_ammount: 1000000  _will_pay_prediction [0]\n",
      "loan_ammount: 10000000  _will_pay_prediction [0]\n",
      "loan_ammount: 100000000  _will_pay_prediction [0]\n"
     ]
    }
   ],
   "source": [
    "for i in range(1,9):\n",
    "    client.at[69,'loan_amount'] = 10**i\n",
    "    cl = scaler.transform(client.drop(columns = ['user_id','_will_pay_predicted']))\n",
    "    decision=blended_model.predict(cl)\n",
    "    print('loan_ammount:', 10**i, ' _will_pay_prediction',decision)"
   ]
  },
  {
   "cell_type": "code",
   "execution_count": 25,
   "metadata": {},
   "outputs": [
    {
     "name": "stdout",
     "output_type": "stream",
     "text": [
      "loan_term in 5 years _will_pay_prediction [0]\n",
      "loan_term in 10 years _will_pay_prediction [0]\n",
      "loan_term in 15 years _will_pay_prediction [0]\n",
      "loan_term in 20 years _will_pay_prediction [0]\n"
     ]
    }
   ],
   "source": [
    "for i in range(1,5):\n",
    "    client.at[69,'loan_amount'] = 10**4\n",
    "    client.at[69,'loan_term'] = i/20\n",
    "    cl = scaler.transform(client.drop(columns = ['user_id','_will_pay_predicted']))\n",
    "    decision=blended_model.predict(cl)\n",
    "    print('loan_term in', i*5, 'years _will_pay_prediction',decision)"
   ]
  },
  {
   "cell_type": "markdown",
   "metadata": {},
   "source": [
    "# Question 3: Interest rate\n",
    "\n",
    "Using the test set, loan losses can be estimated, i.e. money lost due to misclassifying untrustworthy clients as trustworthy."
   ]
  },
  {
   "cell_type": "code",
   "execution_count": 26,
   "metadata": {},
   "outputs": [],
   "source": [
    "# With the test set, \n",
    "\n",
    "report=pd.read_csv('./dataset/interest.csv')\n",
    "\n",
    "losses_condition= (report['_will_pay_predicted']==1) & (report['did_pay']==0)\n",
    "paid_back_condition= (report['_will_pay_predicted']==1) & (report['did_pay']==1)\n",
    "\n",
    "losses = report[losses_condition]['loan_amount'].sum()\n",
    "paid_back = report[paid_back_condition]['loan_amount'].sum()"
   ]
  },
  {
   "cell_type": "markdown",
   "metadata": {},
   "source": [
    " Finally, based on this we can calculate a total interest in order to make the test set of clients profitable:\n",
    " \n",
    " paid_back = loan_WihoutInterest  (1 + interest_{rate})\n",
    "\n",
    " loan_{WihoutInterest} * interest_{rate} > losses "
   ]
  },
  {
   "cell_type": "code",
   "execution_count": 27,
   "metadata": {},
   "outputs": [
    {
     "name": "stdout",
     "output_type": "stream",
     "text": [
      "\n",
      "Therefore, the total interesst rate we need in order to profit is: \n",
      " 5.303309570812077 %\n"
     ]
    }
   ],
   "source": [
    "mininum_interest_rate=(paid_back / losses -1 )**(-1)  *100\n",
    "\n",
    "print(\"\"\"\n",
    "Therefore, the total interesst rate we need in order to profit is: \n",
    "\"\"\",mininum_interest_rate, '%')"
   ]
  },
  {
   "cell_type": "markdown",
   "metadata": {},
   "source": [
    "The anual interest rate, just need to be pay informly during the loan term."
   ]
  },
  {
   "cell_type": "markdown",
   "metadata": {},
   "source": [
    "# Conclusions and discussion"
   ]
  },
  {
   "cell_type": "markdown",
   "metadata": {},
   "source": [
    "Not being an expert on finances, my approach to make this study case profitable was to minimize losses, as oppose to maximize gains. To this end, I trained several popular (Log/decision-trees/SVC/Bayes/KNN, not deep learning given the size of the datasets) classification models that, given an user {past loan records, monthly income/outcome, requested loan ammount and term}, can predict if the loan will be paid back in its entirety. In all cases we obtained a prediction presicion above 85%.\n",
    "\n",
    "The data mining consisted in understanding and filtering the records of users for which losses and terms can be estimated. Which then were used to train our model. Additionally, many clients were neglected because their records had feature values that contradict each other. Our complete training/test sets were reduced to 1497 records.\n",
    "\n",
    "The features that impact the most whether or not a loan will be paay back are: loan amount and outcome/income ratio. \n",
    "\n",
    "Loan money lost/paidback were estimated by applying the modelts to the data test set. Based on this, the interest rate needed to make profits can be determined. For the bagging model, which does not have a variance problem, we estimated that a total interest of 5.30 % has to added to the amount requested by clients. This is fixed over time.\n",
    "\n",
    "Many important improvents are feasable with the tools developed, e.g.\n",
    "\n",
    "- Spliting the datasets further into middle class and more wealth. \n",
    "- Create/test additional features\n",
    "- Better understanding of the role of each feature\n",
    "- Increase recall score\n",
    "\n",
    "However, on the big picture the critial point from the business perspective, would be to get larger test datasets as to estimate losses and its variances accurately. In addition, we shall compare these with the expectation values/variances obtained directly from our theoretical models to thoroughly evaluate these. \n",
    "\n",
    "Finally, it is worth mentioning the role of external factors, such as economic fluctuations, are only indirectly included through our records. Future work should address how to include such risk into the interest rate. "
   ]
  },
  {
   "cell_type": "code",
   "execution_count": null,
   "metadata": {},
   "outputs": [],
   "source": []
  },
  {
   "cell_type": "code",
   "execution_count": null,
   "metadata": {},
   "outputs": [],
   "source": []
  }
 ],
 "metadata": {
  "kernelspec": {
   "display_name": "Python 3",
   "language": "python",
   "name": "python3"
  },
  "language_info": {
   "codemirror_mode": {
    "name": "ipython",
    "version": 3
   },
   "file_extension": ".py",
   "mimetype": "text/x-python",
   "name": "python",
   "nbconvert_exporter": "python",
   "pygments_lexer": "ipython3",
   "version": "3.7.1"
  }
 },
 "nbformat": 4,
 "nbformat_minor": 2
}
