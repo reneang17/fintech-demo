{
 "cells": [
  {
   "cell_type": "code",
   "execution_count": null,
   "metadata": {},
   "outputs": [],
   "source": [
    "large_institution=[]\n",
    "small_institution=[]\n",
    "for key, value in pd.value_counts(df.institution).iteritems():\n",
    "    if value<=800:\n",
    "        small_institution.append(key)\n",
    "    else:\n",
    "        large_institution.append(key)\n",
    "\n",
    "def turn_binary_institution(columns):\n",
    "    institution = columns[0]\n",
    "    \n",
    "    if institution in large_institution:\n",
    "        return 1\n",
    "    \n",
    "    elif institution in small_institution:\n",
    "        return 0\n",
    "    \n",
    "df['institution']=df[['institution']].apply(turn_binary_institution,axis=1)\n",
    "\n",
    "def Class_and_count_vs(feature_str):\n",
    "    \"\"\"\n",
    "    Arguments: \n",
    "    feature_str -- Categorica feature of df\n",
    "    Return:\n",
    "    Countplot -- For each label of feature_str\n",
    "    Class Ratio plot -- For each value of feature_str\n",
    "    \"\"\"\n",
    "    fig, ax = plt.subplots(2 , 1, figsize=(15, 8))\n",
    "    axx=ax.flat\n",
    "\n",
    "    g1=sns.catplot(x=feature_str,y=\"class\",data=df,kind=\"bar\",ax=axx[0])\n",
    "    g1.set_ylabels(\"Class probability\")\n",
    "    axx[0].set_title('Class ratio')\n",
    "\n",
    "    plt.close(2);\n",
    "    axx[1]=sns.countplot(x = feature_str, hue = 'class', data = df)\n",
    "    axx[1].set_title('Class count vs '+feature_str)\n",
    "\n",
    "    axx[1].set_xlabel(feature_str)\n",
    "    axx[1].set_ylabel('Count')\n",
    "    axx[1].legend(['0','1'],loc = 1)"
   ]
  }
 ],
 "metadata": {
  "kernelspec": {
   "display_name": "Python 3",
   "language": "python",
   "name": "python3"
  },
  "language_info": {
   "codemirror_mode": {
    "name": "ipython",
    "version": 3
   },
   "file_extension": ".py",
   "mimetype": "text/x-python",
   "name": "python",
   "nbconvert_exporter": "python",
   "pygments_lexer": "ipython3",
   "version": "3.7.1"
  }
 },
 "nbformat": 4,
 "nbformat_minor": 2
}
